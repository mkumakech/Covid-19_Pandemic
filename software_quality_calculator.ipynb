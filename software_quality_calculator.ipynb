{
 "cells": [
  {
   "cell_type": "markdown",
   "id": "4b38bd1b",
   "metadata": {},
   "source": [
    "<h2> Case Study: Building a Simple Calculator Application: Software Quality Assurance</h2>"
   ]
  },
  {
   "cell_type": "code",
   "execution_count": null,
   "id": "af0548b6",
   "metadata": {},
   "outputs": [
    {
     "name": "stdout",
     "output_type": "stream",
     "text": [
      "Options:\n",
      "Enter 'add' for addition\n",
      "Enter 'subtract' for subtraction\n",
      "Enter 'multiply' for multiplication\n",
      "Enter 'divide' for division\n",
      "Enter 'quit' to end the program\n",
      ": add\n",
      "Enter first number: 45 \n",
      "Enter second number: 50\n",
      "Result:  95.0\n",
      "\n",
      "\n",
      "Options:\n",
      "Enter 'add' for addition\n",
      "Enter 'subtract' for subtraction\n",
      "Enter 'multiply' for multiplication\n",
      "Enter 'divide' for division\n",
      "Enter 'quit' to end the program\n"
     ]
    }
   ],
   "source": [
    "# Simple Calculator Program\n",
    "\n",
    "# Function to add two numbers\n",
    "def add(x, y):\n",
    "    return x + y\n",
    "\n",
    "# Function to subtract two numbers\n",
    "def subtract(x, y):\n",
    "    return x - y\n",
    "\n",
    "# Function to multiply two numbers\n",
    "def multiply(x, y):\n",
    "    return x * y\n",
    "\n",
    "# Function to divide two numbers\n",
    "def divide(x, y):\n",
    "    if y == 0:\n",
    "        return \"Cannot divide by zero\"\n",
    "    return x / y\n",
    "\n",
    "# Main function to run the calculator\n",
    "def main():\n",
    "    while True:\n",
    "        print(\"Options:\")\n",
    "        print(\"Enter 'add' for addition\")\n",
    "        print(\"Enter 'subtract' for subtraction\")\n",
    "        print(\"Enter 'multiply' for multiplication\")\n",
    "        print(\"Enter 'divide' for division\")\n",
    "        print(\"Enter 'quit' to end the program\")\n",
    "        \n",
    "        user_input = input(\": \")\n",
    "        \n",
    "        if user_input == \"quit\":\n",
    "            break\n",
    "        elif user_input in (\"add\", \"subtract\", \"multiply\", \"divide\"):\n",
    "            num1 = float(input(\"Enter first number: \"))\n",
    "            num2 = float(input(\"Enter second number: \"))\n",
    "            \n",
    "            if user_input == \"add\":\n",
    "                print(\"Result: \", add(num1, num2))\n",
    "            elif user_input == \"subtract\":\n",
    "                print(\"Result: \", subtract(num1, num2))\n",
    "            elif user_input == \"multiply\":\n",
    "                print(\"Result: \", multiply(num1, num2))\n",
    "            elif user_input == \"divide\":\n",
    "                print(\"Result: \", divide(num1, num2))\n",
    "        else:\n",
    "            print(\"Invalid input. Please enter a valid operation.\")\n",
    "        print(\"\\n\")\n",
    "\n",
    "if __name__ == \"__main__\":\n",
    "    main()\n"
   ]
  },
  {
   "cell_type": "code",
   "execution_count": null,
   "id": "3d1ad1c9",
   "metadata": {},
   "outputs": [],
   "source": []
  }
 ],
 "metadata": {
  "kernelspec": {
   "display_name": "Python 3 (ipykernel)",
   "language": "python",
   "name": "python3"
  },
  "language_info": {
   "codemirror_mode": {
    "name": "ipython",
    "version": 3
   },
   "file_extension": ".py",
   "mimetype": "text/x-python",
   "name": "python",
   "nbconvert_exporter": "python",
   "pygments_lexer": "ipython3",
   "version": "3.9.12"
  }
 },
 "nbformat": 4,
 "nbformat_minor": 5
}
