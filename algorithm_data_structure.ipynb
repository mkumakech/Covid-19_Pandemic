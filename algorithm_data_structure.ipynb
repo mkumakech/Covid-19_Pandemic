{
 "cells": [
  {
   "cell_type": "markdown",
   "id": "0a556d0e",
   "metadata": {},
   "source": [
    "\n",
    "### 1. Algorithm: Binary Search"
   ]
  },
  {
   "cell_type": "markdown",
   "id": "7c470e8b",
   "metadata": {},
   "source": [
    "<b> Binary search is an efficient algorithm for finding a target value within a sorted array.</b>"
   ]
  },
  {
   "cell_type": "code",
   "execution_count": 3,
   "id": "05abb1a3",
   "metadata": {},
   "outputs": [
    {
     "name": "stdout",
     "output_type": "stream",
     "text": [
      "Target 7 found at index 6.\n"
     ]
    }
   ],
   "source": [
    "# BINARY SEARCH ALGORITHM\n",
    "def binary_search(arr, target):\n",
    "    low, high = 0, len(arr) - 1\n",
    "\n",
    "    while low <= high:\n",
    "        mid = (low + high) // 2\n",
    "        mid_value = arr[mid]\n",
    "\n",
    "        if mid_value == target:\n",
    "            return mid  # Target found, return the index\n",
    "        elif mid_value < target:\n",
    "            low = mid + 1  # Target is in the right half\n",
    "        else:\n",
    "            high = mid - 1  # Target is in the left half\n",
    "\n",
    "    return -1  # Target not found\n",
    "\n",
    "# Example usage:\n",
    "sorted_array = [1, 2, 3, 4, 5, 6, 7, 8, 9, 10]\n",
    "target_value = 7\n",
    "result = binary_search(sorted_array, target_value)\n",
    "\n",
    "if result != -1:\n",
    "    print(f\"Target {target_value} found at index {result}.\")\n",
    "else:\n",
    "    print(f\"Target {target_value} not found.\")\n"
   ]
  },
  {
   "cell_type": "markdown",
   "id": "f5404ed2",
   "metadata": {},
   "source": [
    "### 2. Data Structure: Linked List"
   ]
  },
  {
   "cell_type": "markdown",
   "id": "abf2bbd3",
   "metadata": {},
   "source": [
    "<b> A linked list is a basic data structure where elements are stored in nodes, and each node points to the next node in the sequence.</b>"
   ]
  },
  {
   "cell_type": "code",
   "execution_count": 2,
   "id": "cb7c5d43",
   "metadata": {},
   "outputs": [
    {
     "name": "stdout",
     "output_type": "stream",
     "text": [
      "1 -> 2 -> 3 -> None\n"
     ]
    }
   ],
   "source": [
    "class Node:\n",
    "    def __init__(self, data):\n",
    "        self.data = data\n",
    "        self.next = None\n",
    "\n",
    "class LinkedList:\n",
    "    def __init__(self):\n",
    "        self.head = None\n",
    "\n",
    "    def append(self, data):\n",
    "        new_node = Node(data)\n",
    "        if not self.head:\n",
    "            self.head = new_node\n",
    "        else:\n",
    "            current = self.head\n",
    "            while current.next:\n",
    "                current = current.next\n",
    "            current.next = new_node\n",
    "\n",
    "    def display(self):\n",
    "        current = self.head\n",
    "        while current:\n",
    "            print(current.data, end=\" -> \")\n",
    "            current = current.next\n",
    "        print(\"None\")\n",
    "\n",
    "# Example usage:\n",
    "linked_list = LinkedList()\n",
    "linked_list.append(1)\n",
    "linked_list.append(2)\n",
    "linked_list.append(3)\n",
    "linked_list.display()\n"
   ]
  },
  {
   "cell_type": "code",
   "execution_count": null,
   "id": "6ae938b1",
   "metadata": {},
   "outputs": [],
   "source": []
  }
 ],
 "metadata": {
  "kernelspec": {
   "display_name": "Python 3 (ipykernel)",
   "language": "python",
   "name": "python3"
  },
  "language_info": {
   "codemirror_mode": {
    "name": "ipython",
    "version": 3
   },
   "file_extension": ".py",
   "mimetype": "text/x-python",
   "name": "python",
   "nbconvert_exporter": "python",
   "pygments_lexer": "ipython3",
   "version": "3.9.12"
  }
 },
 "nbformat": 4,
 "nbformat_minor": 5
}
